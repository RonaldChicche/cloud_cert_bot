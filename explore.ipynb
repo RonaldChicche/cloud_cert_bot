{
 "cells": [
  {
   "cell_type": "code",
   "execution_count": 2,
   "id": "87b1427f",
   "metadata": {},
   "outputs": [
    {
     "name": "stdout",
     "output_type": "stream",
     "text": [
      "<!DOCTYPE html>\n",
      "<html lang=\"en\">\n",
      " <head>\n",
      "  <title>\n",
      "   Google Cloud Skills Boost\n",
      "  </title>\n",
      "  <meta content=\"/cable\" name=\"action-cable-url\"/>\n",
      "  <script>\n",
      "   //<![CDATA[\n",
      "window.gon={};gon.deployment=\"google-run\";\n",
      "//]]>\n",
      "  </script>\n",
      "  <script>\n",
      "   const sessEvent = '';\n",
      "  const sessLoginStatus = '';\n",
      "  const sessPreviousPath = '';\n",
      "  </script>\n",
      "  <script>\n",
      "   window.dataLayer = window.dataLayer || [];\n",
      "  function gtag() {\n",
      "    if (arguments[0] === 'event') {\n",
      "      dataLayer.push({ event: arguments[1], eventParams: arguments[2] }, { eventParams: undefined });\n",
      "    } else {\n",
      "      dataLayer.push(arguments);\n",
      "    }\n",
      "  }\n",
      "  let gtmLoaded = false;\n",
      "  function glueCookieNotificationBarLoaded() {\n",
      "    if (!gtmLoaded) {\n",
      "      dataLayerInit(\n",
      "        false,\n",
      "        false,\n",
      "        false,\n",
      "        false,\n",
      "        'google-run'\n",
      "      );\n",
      "      (function(w,d,s,l,i){w[l]=w[l]||[];w[l].push({'gtm.start':\n",
      "      new Date().getTime(),event:'gtm.js'});var f=d.getElementsByTagName(s)[0],\n",
      "      j=d.createElement(s),dl=l!='dataLayer'?'&l='+l:'';j.async=true;j.src=\n",
      "      'https://www.googletagmanager.com/gtm.js?id='+i+dl;f.parentNode.insertBefore(j,f);\n",
      "      })(window,document,'script','dataLayer',\"GTM-MBRHNDG7\");\n",
      "      pushPageEvent();\n",
      "      if (typeof sessEvent !== 'undefined') {\n",
      "        pushSessionEvent(sessEvent, sessLoginStatus, sessPreviousPath);\n",
      "      }\n",
      "      gtmLoaded = true;\n",
      "    }\n",
      "  }\n",
      "  </script>\n",
      "  <script src=\"https://cdn.qwiklabs.com/assets/hallofmirrors/polyfills/webcomponents-loader-2e147cb1679d97581f981243bfc2d1c03dc34a58.js\">\n",
      "  </script>\n",
      "  <script src=\"https://cdn.qwiklabs.com/assets/head_scripts-78121e337319c81329ed63eb61196ea57f74a57d.js\">\n",
      "  </script>\n",
      "  <script src=\"https://cdn.qwiklabs.com/assets/vendor-5ee6eafe71fd3831091397e1aa344044a8642273.js\">\n",
      "  </script>\n",
      "  <script src=\"https://cdn.qwiklabs.com/assets/application-7423258e833aa982d53552cdb1317aef1ae6772c.js\">\n",
      "  </script>\n",
      "  <script src=\"https://cdn.qwiklabs.com/assets/hallofmirrors/hallofmirrors-5f5881a4f65b4a31e833ef92ac92a86a27e29f9e.js\">\n",
      "\n"
     ]
    }
   ],
   "source": [
    "import requests\n",
    "from bs4 import BeautifulSoup\n",
    "\n",
    "url = \"https://www.cloudskillsboost.google/\"\n",
    "res = requests.get(url)\n",
    "soup = BeautifulSoup(res.text, \"html.parser\")\n",
    "\n",
    "print(soup.prettify()[:2000])  # imprime los primeros 2000 caracteres\n"
   ]
  }
 ],
 "metadata": {
  "kernelspec": {
   "display_name": "Python 3",
   "language": "python",
   "name": "python3"
  },
  "language_info": {
   "codemirror_mode": {
    "name": "ipython",
    "version": 3
   },
   "file_extension": ".py",
   "mimetype": "text/x-python",
   "name": "python",
   "nbconvert_exporter": "python",
   "pygments_lexer": "ipython3",
   "version": "3.12.11"
  }
 },
 "nbformat": 4,
 "nbformat_minor": 5
}
